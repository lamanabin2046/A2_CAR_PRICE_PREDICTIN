{
 "cells": [
  {
   "cell_type": "code",
   "execution_count": 1,
   "id": "a11233d0-91f0-499e-af9b-553513ec479d",
   "metadata": {},
   "outputs": [
    {
     "name": "stdout",
     "output_type": "stream",
     "text": [
      "Hello World\n"
     ]
    }
   ],
   "source": [
    "print(\"Hello World\")"
   ]
  },
  {
   "cell_type": "code",
   "execution_count": 4,
   "id": "459eed1d-05c6-4427-bfda-0a516280747f",
   "metadata": {},
   "outputs": [],
   "source": [
    "import numpy as np"
   ]
  },
  {
   "cell_type": "code",
   "execution_count": 2,
   "id": "e090c5ff-30cf-47fb-b3f2-61f628d6de6b",
   "metadata": {},
   "outputs": [],
   "source": [
    "import pandas as pd\n",
    "import numpy as np\n",
    "import seaborn as sns\n",
    "import matplotlib.pyplot as plt\n"
   ]
  },
  {
   "cell_type": "code",
   "execution_count": 3,
   "id": "5b8d7f42-f7a0-4538-8da3-f644e91f8087",
   "metadata": {},
   "outputs": [
    {
     "data": {
      "text/plain": [
       "'1.25.2'"
      ]
     },
     "execution_count": 3,
     "metadata": {},
     "output_type": "execute_result"
    }
   ],
   "source": [
    "np.__version__\n"
   ]
  },
  {
   "cell_type": "code",
   "execution_count": 5,
   "id": "acae51d2-4d02-4613-8750-86d179bf667f",
   "metadata": {},
   "outputs": [],
   "source": [
    "# Number of input features and output neurons\n",
    "n_in = 5\n",
    "n_out = 1\n",
    "\n",
    "# Compute the Xavier limit\n",
    "limit = np.sqrt(6 / (n_in + n_out))\n",
    "\n",
    "# Initialize beta as a column vector (5 x 1)\n",
    "beta = np.random.uniform(-limit, limit, size=(n_in, 1))\n"
   ]
  },
  {
   "cell_type": "code",
   "execution_count": 7,
   "id": "58b73dfa-9528-45bc-ae32-fbb845f2c736",
   "metadata": {},
   "outputs": [
    {
     "data": {
      "text/plain": [
       "array([[ 0.64520213],\n",
       "       [-0.31663926],\n",
       "       [-0.3026066 ],\n",
       "       [-0.61393416],\n",
       "       [-0.57654357]])"
      ]
     },
     "execution_count": 7,
     "metadata": {},
     "output_type": "execute_result"
    }
   ],
   "source": [
    "beta"
   ]
  },
  {
   "cell_type": "code",
   "execution_count": null,
   "id": "c2752127-59b0-4f27-a7ee-df99e79e67b0",
   "metadata": {},
   "outputs": [],
   "source": []
  }
 ],
 "metadata": {
  "kernelspec": {
   "display_name": "Python 3 (ipykernel)",
   "language": "python",
   "name": "python3"
  },
  "language_info": {
   "codemirror_mode": {
    "name": "ipython",
    "version": 3
   },
   "file_extension": ".py",
   "mimetype": "text/x-python",
   "name": "python",
   "nbconvert_exporter": "python",
   "pygments_lexer": "ipython3",
   "version": "3.10.12"
  }
 },
 "nbformat": 4,
 "nbformat_minor": 5
}
